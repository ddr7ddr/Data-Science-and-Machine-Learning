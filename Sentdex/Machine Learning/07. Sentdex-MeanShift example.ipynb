{
 "cells": [
  {
   "cell_type": "markdown",
   "metadata": {},
   "source": [
    "## Meanshift Example\n",
    "* source; sentdex ML - Pt. 39-40"
   ]
  },
  {
   "cell_type": "code",
   "execution_count": 1,
   "metadata": {},
   "outputs": [],
   "source": [
    "import matplotlib.pyplot as plt\n",
    "from matplotlib import style\n",
    "style.use('ggplot')\n",
    "import numpy as np\n",
    "from sklearn.cluster import MeanShift"
   ]
  },
  {
   "cell_type": "code",
   "execution_count": 2,
   "metadata": {},
   "outputs": [],
   "source": [
    "import pandas as pd\n",
    "from sklearn import preprocessing\n",
    "from sklearn.naive_bayes import GaussianNB\n",
    "from sklearn.model_selection import train_test_split"
   ]
  },
  {
   "cell_type": "code",
   "execution_count": 3,
   "metadata": {},
   "outputs": [],
   "source": [
    "df = pd.read_excel(\"./data/titanic.xls\")\n",
    "original_df = pd.DataFrame.copy(df)"
   ]
  },
  {
   "cell_type": "code",
   "execution_count": 4,
   "metadata": {},
   "outputs": [
    {
     "name": "stdout",
     "output_type": "stream",
     "text": [
      "            pclass     survived          age        sibsp        parch  \\\n",
      "count  1309.000000  1309.000000  1309.000000  1309.000000  1309.000000   \n",
      "mean      2.294882     0.381971    23.877515     0.498854     0.385027   \n",
      "std       0.837836     0.486055    17.590848     1.041658     0.865560   \n",
      "min       1.000000     0.000000     0.000000     0.000000     0.000000   \n",
      "25%       2.000000     0.000000     7.000000     0.000000     0.000000   \n",
      "50%       3.000000     0.000000    24.000000     0.000000     0.000000   \n",
      "75%       3.000000     1.000000    35.000000     1.000000     0.000000   \n",
      "max       3.000000     1.000000    80.000000     8.000000     9.000000   \n",
      "\n",
      "              fare  \n",
      "count  1309.000000  \n",
      "mean     33.270043  \n",
      "std      51.747063  \n",
      "min       0.000000  \n",
      "25%       7.895800  \n",
      "50%      14.454200  \n",
      "75%      31.275000  \n",
      "max     512.329200  \n",
      "['pclass', 'survived', 'sex', 'age', 'sibsp', 'parch', 'ticket', 'fare', 'cabin', 'embarked', 'boat', 'home.dest']\n"
     ]
    }
   ],
   "source": [
    "df.drop(['body','name'], 1, inplace = True)\n",
    "#df.convert_objects(convert_numeric = True)\n",
    "df.fillna(0, inplace = True)\n",
    "print(df.describe())\n",
    "print(df.columns.values.tolist())"
   ]
  },
  {
   "cell_type": "code",
   "execution_count": 5,
   "metadata": {},
   "outputs": [],
   "source": [
    "# check pbpython.com/categorical-encoding.html for how to encode the data\n",
    "# boat is an extreme example for following encoding, int and char mixed\n",
    "# following is just one way of encoding\n",
    "def handle_non_numerical_data(df):\n",
    "    encode_dictionary = {}\n",
    "    columns = df.columns.values\n",
    "    new_df = df.copy() #not change original dataframe\n",
    "    \n",
    "    #print(\"columns: \",columns)\n",
    "    for column in columns: # go through every columns\n",
    "        text_digit_vals = {} # store the encoding info eg. {'male': 0, 'female': 1}\n",
    "        def convert_to_int(val): # map function process input\n",
    "            return text_digit_vals[val]\n",
    "        if df[column].dtype != np.int64 and df[column].dtype != np.float64: # not number\n",
    "            column_contents = df[column].values.tolist() # conver to list ['male','female','male'....]\n",
    "            #print(\"df[colunm]: \", df[column])\n",
    "            #print(\"column_contents: \", column_contents)\n",
    "            unique_elements = set(column_contents) #unique value eg. {'male', 'female'}\n",
    "            #print(column)\n",
    "            #print(\"unique_elements: \", unique_elements)\n",
    "            x = 0\n",
    "            for unique in unique_elements:\n",
    "                if unique not in text_digit_vals:\n",
    "                    text_digit_vals[unique] = x\n",
    "                    #print(\"text_digit_vals[unique]\", unique, x)\n",
    "                    \n",
    "                    x += 1\n",
    "            new_df[column] = list( map(convert_to_int, df[column])) # male...->text_digit_vals[male...]->0,1,1,0\n",
    "        #print(text_digit_vals)\n",
    "        #store the encode,{column:{unique:x,....'male':0}....}\n",
    "        encode_dictionary[column] = text_digit_vals\n",
    "    #print(encode_dictionary)\n",
    "    return new_df, encode_dictionary\n",
    "    \n",
    "    "
   ]
  },
  {
   "cell_type": "code",
   "execution_count": 6,
   "metadata": {},
   "outputs": [],
   "source": [
    "df2, encode_dictionary = handle_non_numerical_data(df) #drop 'body' 'day' replace string to numeric value\n",
    "#df2\n",
    "#encode_dictionary\n",
    "X = np.array(df2.drop(['boat'], 1))\n",
    "X = np.array(df2.drop(['survived'], 1).astype(float))\n",
    "#print(X)\n",
    "X = preprocessing.scale(X)\n",
    "#print(X)\n",
    "y = np.array(df2['survived'].astype(float))"
   ]
  },
  {
   "cell_type": "code",
   "execution_count": 7,
   "metadata": {},
   "outputs": [
    {
     "data": {
      "text/plain": [
       "MeanShift(bandwidth=None, bin_seeding=False, cluster_all=True, min_bin_freq=1,\n",
       "     n_jobs=None, seeds=None)"
      ]
     },
     "execution_count": 7,
     "metadata": {},
     "output_type": "execute_result"
    }
   ],
   "source": [
    "clf = MeanShift()\n",
    "clf.fit(X)"
   ]
  },
  {
   "cell_type": "code",
   "execution_count": 8,
   "metadata": {
    "scrolled": true
   },
   "outputs": [
    {
     "name": "stdout",
     "output_type": "stream",
     "text": [
      "labels.shape:  (1309,)\n",
      "            pclass     survived          age        sibsp        parch  \\\n",
      "count  1309.000000  1309.000000  1046.000000  1309.000000  1309.000000   \n",
      "mean      2.294882     0.381971    29.881135     0.498854     0.385027   \n",
      "std       0.837836     0.486055    14.413500     1.041658     0.865560   \n",
      "min       1.000000     0.000000     0.166700     0.000000     0.000000   \n",
      "25%       2.000000     0.000000    21.000000     0.000000     0.000000   \n",
      "50%       3.000000     0.000000    28.000000     0.000000     0.000000   \n",
      "75%       3.000000     1.000000    39.000000     1.000000     0.000000   \n",
      "max       3.000000     1.000000    80.000000     8.000000     9.000000   \n",
      "\n",
      "              fare        body  cluster_group  \n",
      "count  1308.000000  121.000000    1309.000000  \n",
      "mean     33.295479  160.809917       0.102368  \n",
      "std      51.758668   97.696922       0.505537  \n",
      "min       0.000000    1.000000       0.000000  \n",
      "25%       7.895800   72.000000       0.000000  \n",
      "50%      14.454200  155.000000       0.000000  \n",
      "75%      31.275000  256.000000       0.000000  \n",
      "max     512.329200  328.000000       4.000000  \n"
     ]
    }
   ],
   "source": [
    "labels = clf.labels_\n",
    "cluster_centers = clf.cluster_centers_\n",
    "print(\"labels.shape: \", labels.shape)\n",
    "\n",
    "original_df['cluster_group'] = pd.Series(labels) # DF is a dict of Series objects\n",
    "\n",
    "print(original_df.describe())"
   ]
  },
  {
   "cell_type": "code",
   "execution_count": 9,
   "metadata": {},
   "outputs": [
    {
     "name": "stdout",
     "output_type": "stream",
     "text": [
      "survival rate in deifferent cluster:  {0: 0.38072289156626504, 1: 0.0, 2: 0.6923076923076923, 3: 1.0, 4: 0.1}\n",
      "child under 10 in diffrent cluster:  {0: 0.06265060240963856, 1: 0.38095238095238093, 2: 0.0, 3: 0.0, 4: 0.0}\n"
     ]
    }
   ],
   "source": [
    "n_clusters_ = len(np.unique(labels)) # 4\n",
    "survival_rates = {}\n",
    "age_rates = {}\n",
    "clf_df = {}\n",
    "\n",
    "for i in range(n_clusters_):\n",
    "    temp_df = original_df[ (original_df['cluster_group']==float(i))]\n",
    "    clf_df[i] = temp_df\n",
    "    survival_cluster = temp_df[(temp_df['survived']==1)]\n",
    "    age_cluster = temp_df[(temp_df['age']<=10)]\n",
    "    #print(survival_cluster)\n",
    "    survival_rate = len(survival_cluster)/len(temp_df)\n",
    "    age_rate = len(age_cluster)/len(temp_df)\n",
    "    survival_rates[i] = survival_rate\n",
    "    age_rates[i] = age_rate\n",
    "print(\"survival rate in deifferent cluster: \", survival_rates)\n",
    "print(\"child under 10 in diffrent cluster: \", age_rates)"
   ]
  },
  {
   "cell_type": "code",
   "execution_count": 10,
   "metadata": {},
   "outputs": [
    {
     "name": "stdout",
     "output_type": "stream",
     "text": [
      "            pclass     survived         age        sibsp        parch  \\\n",
      "count  1245.000000  1245.000000  992.000000  1245.000000  1245.000000   \n",
      "mean      2.311647     0.380723   29.824765     0.391165     0.288353   \n",
      "std       0.825187     0.485760   14.199059     0.729766     0.637444   \n",
      "min       1.000000     0.000000    0.166700     0.000000     0.000000   \n",
      "25%       2.000000     0.000000   21.000000     0.000000     0.000000   \n",
      "50%       3.000000     0.000000   28.000000     0.000000     0.000000   \n",
      "75%       3.000000     1.000000   38.000000     1.000000     0.000000   \n",
      "max       3.000000     1.000000   80.000000     4.000000     4.000000   \n",
      "\n",
      "              fare        body  cluster_group  \n",
      "count  1244.000000  115.000000         1245.0  \n",
      "mean     26.908768  161.347826            0.0  \n",
      "std      33.399699   98.355339            0.0  \n",
      "min       0.000000    1.000000            0.0  \n",
      "25%       7.895800   71.000000            0.0  \n",
      "50%      13.416700  165.000000            0.0  \n",
      "75%      27.750000  257.000000            0.0  \n",
      "max     247.520800  328.000000            0.0  \n",
      "survival rate in 0_cluster:  0.38072289156626504\n"
     ]
    }
   ],
   "source": [
    "print(clf_df[0].describe())\n",
    "print(\"survival rate in 0_cluster: \", clf_df[0]['survived'].mean())"
   ]
  },
  {
   "cell_type": "code",
   "execution_count": 11,
   "metadata": {},
   "outputs": [
    {
     "data": {
      "text/plain": [
       "0   -0.706731\n",
       "2   -0.149434\n",
       "4    1.443069\n",
       "dtype: float64"
      ]
     },
     "execution_count": 11,
     "metadata": {},
     "output_type": "execute_result"
    }
   ],
   "source": [
    "# Test boolean series in a dataframe/series\n",
    "y = pd.Series(np.random.randn(5))\n",
    "yx = pd.Series([True,False,True,False,True])\n",
    "y[yx]"
   ]
  },
  {
   "cell_type": "code",
   "execution_count": 1,
   "metadata": {},
   "outputs": [],
   "source": [
    "import tensorflow as tf"
   ]
  },
  {
   "cell_type": "code",
   "execution_count": null,
   "metadata": {},
   "outputs": [],
   "source": []
  },
  {
   "cell_type": "code",
   "execution_count": null,
   "metadata": {},
   "outputs": [],
   "source": []
  },
  {
   "cell_type": "code",
   "execution_count": null,
   "metadata": {},
   "outputs": [],
   "source": []
  }
 ],
 "metadata": {
  "kernelspec": {
   "display_name": "ov",
   "language": "python",
   "name": "ov"
  },
  "language_info": {
   "codemirror_mode": {
    "name": "ipython",
    "version": 3
   },
   "file_extension": ".py",
   "mimetype": "text/x-python",
   "name": "python",
   "nbconvert_exporter": "python",
   "pygments_lexer": "ipython3",
   "version": "3.6.8"
  }
 },
 "nbformat": 4,
 "nbformat_minor": 2
}
