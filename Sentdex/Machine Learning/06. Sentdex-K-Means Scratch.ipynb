{
 "cells": [
  {
   "cell_type": "markdown",
   "metadata": {},
   "source": [
    "# K-Means Replicate from Sratch\n",
    "* source ML from Sentdex Pt. 37-38"
   ]
  },
  {
   "cell_type": "code",
   "execution_count": 53,
   "metadata": {},
   "outputs": [],
   "source": [
    "import matplotlib.pyplot as plt\n",
    "from matplotlib import style\n",
    "style.use('ggplot')\n",
    "import numpy as np\n",
    "from sklearn.cluster import KMeans"
   ]
  },
  {
   "cell_type": "code",
   "execution_count": 54,
   "metadata": {},
   "outputs": [
    {
     "data": {
      "text/plain": [
       "array([[ 1. ,  2. ],\n",
       "       [ 1.5,  1.8],\n",
       "       [ 5. ,  8. ],\n",
       "       [ 8. ,  8. ],\n",
       "       [ 1. ,  0.6],\n",
       "       [ 9. , 11. ]])"
      ]
     },
     "execution_count": 54,
     "metadata": {},
     "output_type": "execute_result"
    }
   ],
   "source": [
    "X = np.array([[1, 2],[1.5, 1.8],[5, 8],[8, 8],[1, 0.6],[9, 11]])\n",
    "X"
   ]
  },
  {
   "cell_type": "code",
   "execution_count": 56,
   "metadata": {},
   "outputs": [
    {
     "data": {
      "image/png": "[encoded data removed]",
      "text/plain": [
       "<Figure size 432x288 with 1 Axes>"
      ]
     },
     "metadata": {},
     "output_type": "display_data"
    }
   ],
   "source": [
    "plt.scatter(X[:,0], X[:,1], s=150)\n",
    "plt.show()"
   ]
  },
  {
   "cell_type": "code",
   "execution_count": 241,
   "metadata": {},
   "outputs": [],
   "source": [
    "class K_Means:\n",
    "    def __init__(self, k=2, tol=0.001, max_iter=300):\n",
    "        self.k = k\n",
    "        self.tol = tol\n",
    "        self.max_iter = max_iter\n",
    "    \n",
    "    def fit(self, data):\n",
    "        self.centroids = {}\n",
    "        \n",
    "        for i in range(self.k):\n",
    "            self.centroids[i] = data[i] #choose first two as controids\n",
    "        print(\"controids: \", i, self.centroids)\n",
    "        for i in range(self.max_iter):\n",
    "            self.classifications = {}\n",
    "            \n",
    "            for i in range(self.k):\n",
    "                self.classifications[i] = []\n",
    "            print(\"--------classification: \", self.classifications)\n",
    "            \n",
    "            for featureset in data:\n",
    "#                 for centroid in self.centroids:\n",
    "#                     print(\"---------\", self.centroids[centroid])\n",
    "                \n",
    "                distances = [np.linalg.norm(featureset-self.centroids[centroid]) for centroid in self.centroids]\n",
    "                print(featureset, self.centroids)\n",
    "                print(distances, min(distances))\n",
    "                classification = distances.index(min(distances))\n",
    "                print(classification)\n",
    "                self.classifications[classification].append(featureset)\n",
    "                print(\"classification------: \", self.classifications)\n",
    "            \n",
    "            #following code is shallow copy even sentdex mention it as deep copy\n",
    "            #https://stackoverflow.com/questions/3975376/understanding-dict-copy-shallow-or-deep\n",
    "            #do not know why it works\n",
    "            prev_centroids = dict(self.centroids)\n",
    "            \n",
    "            for classification in self.classifications:\n",
    "                # This is magic line, improve avaergae for every iteration\n",
    "                self.centroids[classification] = np.average(self.classifications[classification],axis=0)\n",
    "                print(\"avarage out\", self.centroids[classification])\n",
    "            \n",
    "            optimized = True\n",
    "            \n",
    "            #test tolerence, \n",
    "            #ABS is needed(see the print output),poisitive diff [0] + degative diff [1] make no sence\n",
    "            for c in self.centroids:\n",
    "                original_centroid = prev_centroids[c]\n",
    "                current_centroid = self.centroids[c]\n",
    "                print(\"compare last centroid with current centroid: \",current_centroid,original_centroid)\n",
    "                if np.sum(abs((current_centroid-original_centroid))/original_centroid*100.0) > self.tol:\n",
    "                    print(np.sum((current_centroid-original_centroid)/original_centroid*100.0)) # without ABS\n",
    "                    optimized = False\n",
    "            \n",
    "            if optimized:\n",
    "                break\n",
    "            \n",
    "            print(\"-----------------------END OF ONE INTERATION(<max_iter)-------------------------\")\n",
    "\n",
    "            \n",
    "            \n",
    "    \n",
    "    def predict(self, data):\n",
    "        distances = [np.linalg.norm(data-self.centroids[centroid]) for centroid in self.centroids]\n",
    "        print(data, self.centroids)\n",
    "        #print(distances, min(distances))\n",
    "        classification = distances.index(min(distances))\n",
    "        return classification"
   ]
  },
  {
   "cell_type": "code",
   "execution_count": 242,
   "metadata": {},
   "outputs": [
    {
     "name": "stdout",
     "output_type": "stream",
     "text": [
      "controids:  1 {0: array([1., 2.]), 1: array([1.5, 1.8])}\n",
      "--------classification:  {0: [], 1: []}\n",
      "[1. 2.] {0: array([1., 2.]), 1: array([1.5, 1.8])}\n",
      "[0.0, 0.5385164807134504] 0.0\n",
      "0\n",
      "classification------:  {0: [array([1., 2.])], 1: []}\n",
      "[1.5 1.8] {0: array([1., 2.]), 1: array([1.5, 1.8])}\n",
      "[0.5385164807134504, 0.0] 0.0\n",
      "1\n",
      "classification------:  {0: [array([1., 2.])], 1: [array([1.5, 1.8])]}\n",
      "[5. 8.] {0: array([1., 2.]), 1: array([1.5, 1.8])}\n",
      "[7.211102550927978, 7.119691004531026] 7.119691004531026\n",
      "1\n",
      "classification------:  {0: [array([1., 2.])], 1: [array([1.5, 1.8]), array([5., 8.])]}\n",
      "[8. 8.] {0: array([1., 2.]), 1: array([1.5, 1.8])}\n",
      "[9.219544457292887, 8.98276126811795] 8.98276126811795\n",
      "1\n",
      "classification------:  {0: [array([1., 2.])], 1: [array([1.5, 1.8]), array([5., 8.]), array([8., 8.])]}\n",
      "[1.  0.6] {0: array([1., 2.]), 1: array([1.5, 1.8])}\n",
      "[1.4, 1.3] 1.3\n",
      "1\n",
      "classification------:  {0: [array([1., 2.])], 1: [array([1.5, 1.8]), array([5., 8.]), array([8., 8.]), array([1. , 0.6])]}\n",
      "[ 9. 11.] {0: array([1., 2.]), 1: array([1.5, 1.8])}\n",
      "[12.041594578792296, 11.869709347747316] 11.869709347747316\n",
      "1\n",
      "classification------:  {0: [array([1., 2.])], 1: [array([1.5, 1.8]), array([5., 8.]), array([8., 8.]), array([1. , 0.6]), array([ 9., 11.])]}\n",
      "avarage out [1. 2.]\n",
      "avarage out [4.9  5.88]\n",
      "compare last centroid with current centroid:  [1. 2.] [1. 2.]\n",
      "compare last centroid with current centroid:  [4.9  5.88] [1.5 1.8]\n",
      "453.3333333333334\n",
      "-----------------------END OF ONE INTERATION(<max_iter)-------------------------\n",
      "--------classification:  {0: [], 1: []}\n",
      "[1. 2.] {0: array([1., 2.]), 1: array([4.9 , 5.88])}\n",
      "[0.0, 5.501308935153525] 0.0\n",
      "0\n",
      "classification------:  {0: [array([1., 2.])], 1: []}\n",
      "[1.5 1.8] {0: array([1., 2.]), 1: array([4.9 , 5.88])}\n",
      "[0.5385164807134504, 5.310969779616526] 0.5385164807134504\n",
      "0\n",
      "classification------:  {0: [array([1., 2.]), array([1.5, 1.8])], 1: []}\n",
      "[5. 8.] {0: array([1., 2.]), 1: array([4.9 , 5.88])}\n",
      "[7.211102550927978, 2.1223571801183696] 2.1223571801183696\n",
      "1\n",
      "classification------:  {0: [array([1., 2.]), array([1.5, 1.8])], 1: [array([5., 8.])]}\n",
      "[8. 8.] {0: array([1., 2.]), 1: array([4.9 , 5.88])}\n",
      "[9.219544457292887, 3.7555825114088486] 3.7555825114088486\n",
      "1\n",
      "classification------:  {0: [array([1., 2.]), array([1.5, 1.8])], 1: [array([5., 8.]), array([8., 8.])]}\n",
      "[1.  0.6] {0: array([1., 2.]), 1: array([4.9 , 5.88])}\n",
      "[1.4, 6.564175500396072] 1.4\n",
      "0\n",
      "classification------:  {0: [array([1., 2.]), array([1.5, 1.8]), array([1. , 0.6])], 1: [array([5., 8.]), array([8., 8.])]}\n",
      "[ 9. 11.] {0: array([1., 2.]), 1: array([4.9 , 5.88])}\n",
      "[12.041594578792296, 6.559298743005992] 6.559298743005992\n",
      "1\n",
      "classification------:  {0: [array([1., 2.]), array([1.5, 1.8]), array([1. , 0.6])], 1: [array([5., 8.]), array([8., 8.]), array([ 9., 11.])]}\n",
      "avarage out [1.16666667 1.46666667]\n",
      "avarage out [7.33333333 9.        ]\n",
      "compare last centroid with current centroid:  [1.16666667 1.46666667] [1. 2.]\n",
      "-9.999999999999996\n",
      "compare last centroid with current centroid:  [7.33333333 9.        ] [4.9  5.88]\n",
      "102.72108843537411\n",
      "-----------------------END OF ONE INTERATION(<max_iter)-------------------------\n",
      "--------classification:  {0: [], 1: []}\n",
      "[1. 2.] {0: array([1.16666667, 1.46666667]), 1: array([7.33333333, 9.        ])}\n",
      "[0.5587684871413404, 9.439868172337532] 0.5587684871413404\n",
      "0\n",
      "classification------:  {0: [array([1., 2.])], 1: []}\n",
      "[1.5 1.8] {0: array([1.16666667, 1.46666667]), 1: array([7.33333333, 9.        ])}\n",
      "[0.47140452079103173, 9.266486808806118] 0.47140452079103173\n",
      "0\n",
      "classification------:  {0: [array([1., 2.]), array([1.5, 1.8])], 1: []}\n",
      "[5. 8.] {0: array([1.16666667, 1.46666667]), 1: array([7.33333333, 9.        ])}\n",
      "[7.574885404340378, 2.5385910352879693] 2.5385910352879693\n",
      "1\n",
      "classification------:  {0: [array([1., 2.]), array([1.5, 1.8])], 1: [array([5., 8.])]}\n",
      "[8. 8.] {0: array([1.16666667, 1.46666667]), 1: array([7.33333333, 9.        ])}\n",
      "[9.454040876201503, 1.2018504251546633] 1.2018504251546633\n",
      "1\n",
      "classification------:  {0: [array([1., 2.]), array([1.5, 1.8])], 1: [array([5., 8.]), array([8., 8.])]}\n",
      "[1.  0.6] {0: array([1.16666667, 1.46666667]), 1: array([7.33333333, 9.        ])}\n",
      "[0.8825468196582483, 10.52003379800232] 0.8825468196582483\n",
      "0\n",
      "classification------:  {0: [array([1., 2.]), array([1.5, 1.8]), array([1. , 0.6])], 1: [array([5., 8.]), array([8., 8.])]}\n",
      "[ 9. 11.] {0: array([1.16666667, 1.46666667]), 1: array([7.33333333, 9.        ])}\n",
      "[12.338782579961263, 2.6034165586355518] 2.6034165586355518\n",
      "1\n",
      "classification------:  {0: [array([1., 2.]), array([1.5, 1.8]), array([1. , 0.6])], 1: [array([5., 8.]), array([8., 8.]), array([ 9., 11.])]}\n",
      "avarage out [1.16666667 1.46666667]\n",
      "avarage out [7.33333333 9.        ]\n",
      "compare last centroid with current centroid:  [1.16666667 1.46666667] [1.16666667 1.46666667]\n",
      "compare last centroid with current centroid:  [7.33333333 9.        ] [7.33333333 9.        ]\n"
     ]
    }
   ],
   "source": [
    "aaa = K_Means(2,0.001,20)#k=2,tol=0.001,max_iter=10)\n",
    "aaa.fit(data=X)"
   ]
  },
  {
   "cell_type": "code",
   "execution_count": 243,
   "metadata": {},
   "outputs": [],
   "source": [
    "colorss = [\"g\",\"r\",\"c\",\"b\",\"k\"]"
   ]
  },
  {
   "cell_type": "code",
   "execution_count": 244,
   "metadata": {},
   "outputs": [
    {
     "name": "stdout",
     "output_type": "stream",
     "text": [
      "[[0 1]\n",
      " [2 3]\n",
      " [4 5]\n",
      " [6 7]\n",
      " [8 9]]\n",
      "[0 1] {0: array([1.16666667, 1.46666667]), 1: array([7.33333333, 9.        ])}\n",
      "[2 3] {0: array([1.16666667, 1.46666667]), 1: array([7.33333333, 9.        ])}\n",
      "[4 5] {0: array([1.16666667, 1.46666667]), 1: array([7.33333333, 9.        ])}\n",
      "[6 7] {0: array([1.16666667, 1.46666667]), 1: array([7.33333333, 9.        ])}\n",
      "[8 9] {0: array([1.16666667, 1.46666667]), 1: array([7.33333333, 9.        ])}\n"
     ]
    },
    {
     "data": {
      "image/png": "[encoded data removed]",
      "text/plain": [
       "<Figure size 432x288 with 1 Axes>"
      ]
     },
     "metadata": {},
     "output_type": "display_data"
    }
   ],
   "source": [
    "# plot the centroids\n",
    "for centroid in aaa.centroids:\n",
    "    plt.scatter(aaa.centroids[centroid][0],aaa.centroids[centroid][1],marker=\"o\",color=\"k\",linewidths=5)\n",
    "# plot the classified data\n",
    "for classification in aaa.classifications: #color = color for scatter parameter wont work?????\n",
    "    color = colorss[classification]\n",
    "    for featureset in aaa.classifications[classification]:\n",
    "        plt.scatter(featureset[0],featureset[1],marker=\"x\",color=color,s=150,linewidths=5)\n",
    "\n",
    "unknows = np.arange(10).reshape((5, 2))\n",
    "print(unknows)\n",
    "for unknow in unknows:\n",
    "    classification = aaa.predict(unknow)\n",
    "    plt.scatter(unknow[0],unknow[1],marker=\"*\",color=colorss[classification],s=150,linewidths=5)\n",
    "plt.show()"
   ]
  },
  {
   "cell_type": "code",
   "execution_count": 201,
   "metadata": {},
   "outputs": [
    {
     "name": "stdout",
     "output_type": "stream",
     "text": [
      "{0: [1.0, 2.0, [2, 2]], 1: [1.5, 1.8]} {0: [1.0, 2.0, [2, 2]], 1: [1.5, 1.8]}\n"
     ]
    },
    {
     "data": {
      "text/plain": [
       "({0: [1.0, 2.0, [2, 2]], 1: [1.5, 1.8]},\n",
       " {0: [1.0, 2.0, [2, 2]], 1: [1.5, 1.8]},\n",
       " {0: [1.0, 2.0, [2, 2], [3, 3]], 1: [1.5, 1.8]})"
      ]
     },
     "execution_count": 201,
     "metadata": {},
     "output_type": "execute_result"
    }
   ],
   "source": [
    "# example of deep copy and shallow copy\n",
    "xx = {0: [1., 2.], 1: [1.5, 1.8]}\n",
    "yy = dict(xx)\n",
    "yy[0].append([2,2])\n",
    "print(xx, yy)\n",
    "import copy\n",
    "zz = copy.deepcopy(xx)\n",
    "zz[0].append([3,3])\n",
    "xx,yy,zz"
   ]
  },
  {
   "cell_type": "code",
   "execution_count": 233,
   "metadata": {},
   "outputs": [
    {
     "name": "stdout",
     "output_type": "stream",
     "text": [
      "[-0.5005 -1.5009] -2.0014000000000003\n",
      "[-0.33366667 -0.60036   ] -0.9340266666666666\n",
      "[0.33366667 0.60036   ] 93.40266666666666\n"
     ]
    }
   ],
   "source": [
    "# test tolerance-practise, suggest ABS as comment in the youtube video\n",
    "# mutiply 100 for percentage of change\n",
    "x = np.array([1.5,2.5])\n",
    "y = np.array([0.9995, 0.9991])\n",
    "print(y-x,np.sum(y-x))\n",
    "print((y-x)/x,np.sum((y-x)/x))\n",
    "print(abs((y-x)/x),np.sum(abs((y-x)/x)*100))"
   ]
  },
  {
   "cell_type": "code",
   "execution_count": 26,
   "metadata": {},
   "outputs": [
    {
     "data": {
      "text/plain": [
       "KMeans(algorithm='auto', copy_x=True, init='k-means++', max_iter=300,\n",
       "    n_clusters=3, n_init=10, n_jobs=None, precompute_distances='auto',\n",
       "    random_state=None, tol=0.0001, verbose=0)"
      ]
     },
     "execution_count": 26,
     "metadata": {},
     "output_type": "execute_result"
    }
   ],
   "source": [
    "clf = KMeans(n_clusters=3)\n",
    "clf.fit(X)"
   ]
  },
  {
   "cell_type": "code",
   "execution_count": 27,
   "metadata": {},
   "outputs": [
    {
     "name": "stdout",
     "output_type": "stream",
     "text": [
      "[[ 1.16666667  1.46666667]\n",
      " [ 6.5         8.        ]\n",
      " [ 9.         11.        ]]\n",
      "[0 0 1 1 0 2]\n"
     ]
    }
   ],
   "source": [
    "centroids = clf.cluster_centers_\n",
    "labels = clf.labels_\n",
    "print(centroids)\n",
    "print(labels)"
   ]
  },
  {
   "cell_type": "code",
   "execution_count": 28,
   "metadata": {},
   "outputs": [],
   "source": [
    "colors = 10*[\"g.\",\"r.\",\"c.\",\"b.\",\"k.\"]"
   ]
  },
  {
   "cell_type": "code",
   "execution_count": null,
   "metadata": {},
   "outputs": [],
   "source": []
  },
  {
   "cell_type": "code",
   "execution_count": 29,
   "metadata": {},
   "outputs": [
    {
     "data": {
      "image/png": "[encoded data removed]",
      "text/plain": [
       "<Figure size 432x288 with 1 Axes>"
      ]
     },
     "metadata": {},
     "output_type": "display_data"
    }
   ],
   "source": [
    "for i in range(len(X)):\n",
    "    plt.plot(X[i][0], X[i][1], colors[labels[i]], markersize = 25) #plot scatter usage and difference??????\n",
    "\n",
    "plt.scatter(centroids[:,0], centroids[:,1],s = 150, marker = '*', linewidths = 5)\n",
    "plt.show()\n",
    "               "
   ]
  },
  {
   "cell_type": "code",
   "execution_count": null,
   "metadata": {},
   "outputs": [],
   "source": []
  }
 ],
 "metadata": {
  "kernelspec": {
   "display_name": "Python 3",
   "language": "python",
   "name": "python3"
  },
  "language_info": {
   "codemirror_mode": {
    "name": "ipython",
    "version": 3
   },
   "file_extension": ".py",
   "mimetype": "text/x-python",
   "name": "python",
   "nbconvert_exporter": "python",
   "pygments_lexer": "ipython3",
   "version": "3.6.6"
  }
 },
 "nbformat": 4,
 "nbformat_minor": 2
}
