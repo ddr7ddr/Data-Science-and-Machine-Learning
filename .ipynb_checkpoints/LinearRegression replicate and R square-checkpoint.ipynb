{
 "cells": [
  {
   "cell_type": "markdown",
   "metadata": {},
   "source": [
    "Title: Best fit slope and R square - pt.8 - pt.11\n",
    "replicate the linearregression and R square from scratch"
   ]
  },
  {
   "cell_type": "code",
   "execution_count": 149,
   "metadata": {},
   "outputs": [],
   "source": [
    "import numpy as np\n",
    "from statistics import mean\n",
    "import matplotlib.pyplot as plt\n",
    "from matplotlib import style\n",
    "import random # pt.12"
   ]
  },
  {
   "cell_type": "code",
   "execution_count": 150,
   "metadata": {},
   "outputs": [],
   "source": [
    "style.use('fivethirtyeight')"
   ]
  },
  {
   "cell_type": "code",
   "execution_count": 151,
   "metadata": {},
   "outputs": [],
   "source": [
    "#not gonna use in pt.12\n",
    "#xs = [1,2,3,4,5,6]\n",
    "#ys = [5,4,6,5,6,7]\n",
    "#ys = [4,5,6,7,8,9] #test for the r quared, 1 means classifer is best, fully depend of x and y\n",
    "#print(xs)\n",
    "#print(ys)\n",
    "#xs = np.array(xs, dtype=np.float64)\n",
    "#ys = np.array(ys, dtype=np.float64)\n",
    "#print(xs)\n",
    "#print(ys)\n",
    "#print(xs*ys)"
   ]
  },
  {
   "cell_type": "code",
   "execution_count": 152,
   "metadata": {},
   "outputs": [],
   "source": [
    "# pt.12\n",
    "def create_dataset(hm, variance, step=2, correlation=False):\n",
    "    val = 1\n",
    "    ys = []\n",
    "    for i in range(hm):\n",
    "        y = val+ random.randrange(-variance, variance)\n",
    "        ys.append(y)\n",
    "        if correlation and correlation=='pos':\n",
    "            val = val + step\n",
    "        elif correlation and correlation=='neg':\n",
    "            val = val - step\n",
    "    xs = [i for i in range(len(ys))]\n",
    "    return np.array(xs, dtype=np.float64), np.array(ys, dtype=np.float64)"
   ]
  },
  {
   "cell_type": "code",
   "execution_count": 153,
   "metadata": {},
   "outputs": [
    {
     "name": "stdout",
     "output_type": "stream",
     "text": [
      "-2.7593808630393997 19.7829268292683\n"
     ]
    }
   ],
   "source": [
    "# find the best fit slope m and intercept b\n",
    "def best_fit_slope_and_intercept(xs,ys):\n",
    "    m = ( mean(xs)*mean(ys) - mean(xs*ys) ) / ( mean(xs)**2- mean(xs**2) )\n",
    "    b = mean(ys) - m * mean(xs)\n",
    "    return m, b\n",
    "m, b = best_fit_slope_and_intercept(xs,ys)\n",
    "print (m, b)"
   ]
  },
  {
   "cell_type": "code",
   "execution_count": 154,
   "metadata": {},
   "outputs": [],
   "source": [
    "# the quare error formular--for positive value and classify outlier\n",
    "def square_error(ys_orig, ys_line):\n",
    "    return sum((ys_line - ys_orig)**2)"
   ]
  },
  {
   "cell_type": "code",
   "execution_count": 155,
   "metadata": {},
   "outputs": [],
   "source": [
    "# find the coe(R square)\n",
    "def coefficient_of_determination(ys_orig, ys_line):\n",
    "    y_mean_line = [mean(ys_orig) for y in ys_orig]\n",
    "    print(y_mean_line)\n",
    "    squared_error_regr = square_error(ys_orig, ys_line)\n",
    "    squared_error_y_mean = square_error(ys_orig,y_mean_line)\n",
    "    return 1 - (squared_error_regr / squared_error_y_mean)"
   ]
  },
  {
   "cell_type": "code",
   "execution_count": 156,
   "metadata": {},
   "outputs": [],
   "source": [
    "# pt.12 create data set, change for fun\n",
    "xs, ys = create_dataset(40, 80, 2, correlation='neg')"
   ]
  },
  {
   "cell_type": "code",
   "execution_count": 157,
   "metadata": {},
   "outputs": [
    {
     "name": "stdout",
     "output_type": "stream",
     "text": [
      "[19.7829268292683, 17.023545966228898, 14.264165103189498, 11.5047842401501, 8.7454033771107, 5.9860225140712995, 3.226641651031901, 0.46726078799250104, -2.292120075046899, -5.051500938086299, -7.810881801125699, -10.5702626641651, -13.329643527204496, -16.0890243902439, -18.848405253283296, -21.6077861163227, -24.367166979362096, -27.126547842401493, -29.885928705440897, -32.64530956848029, -35.4046904315197, -38.16407129455909, -40.9234521575985, -43.682833020637894, -46.44221388367729, -49.20159474671669, -51.9609756097561, -54.720356472795494, -57.47973733583489, -60.23911819887429, -62.9984990619137, -65.7578799249531, -68.51726078799248, -71.2766416510319, -74.03602251407128, -76.79540337711069, -79.5547842401501, -82.31416510318948, -85.07354596622889, -87.8329268292683]\n"
     ]
    }
   ],
   "source": [
    "#find the regression y\n",
    "regression_line = [m*x+b for x in xs]\n",
    "print(regression_line)"
   ]
  },
  {
   "cell_type": "code",
   "execution_count": 158,
   "metadata": {},
   "outputs": [
    {
     "name": "stdout",
     "output_type": "stream",
     "text": [
      "[-36.525, -36.525, -36.525, -36.525, -36.525, -36.525, -36.525, -36.525, -36.525, -36.525, -36.525, -36.525, -36.525, -36.525, -36.525, -36.525, -36.525, -36.525, -36.525, -36.525, -36.525, -36.525, -36.525, -36.525, -36.525, -36.525, -36.525, -36.525, -36.525, -36.525, -36.525, -36.525, -36.525, -36.525, -36.525, -36.525, -36.525, -36.525, -36.525, -36.525]\n",
      "-0.18413522140947047\n"
     ]
    }
   ],
   "source": [
    "predict_x = 0\n",
    "predict_y = (m*predict_x) + b\n",
    "\n",
    "r_squared = coefficient_of_determination(ys, regression_line)\n",
    "print(r_squared)"
   ]
  },
  {
   "cell_type": "code",
   "execution_count": 159,
   "metadata": {},
   "outputs": [
    {
     "data": {
      "image/png": "[encoded data removed]",
      "text/plain": [
       "<Figure size 432x288 with 1 Axes>"
      ]
     },
     "metadata": {},
     "output_type": "display_data"
    }
   ],
   "source": [
    "plt.scatter(xs,ys)\n",
    "plt.scatter(predict_x,predict_y, color='g')\n",
    "plt.plot(xs,regression_line)\n",
    "plt.show()"
   ]
  },
  {
   "cell_type": "code",
   "execution_count": null,
   "metadata": {},
   "outputs": [],
   "source": [
    "\n"
   ]
  }
 ],
 "metadata": {
  "kernelspec": {
   "display_name": "Python 3",
   "language": "python",
   "name": "python3"
  },
  "language_info": {
   "codemirror_mode": {
    "name": "ipython",
    "version": 3
   },
   "file_extension": ".py",
   "mimetype": "text/x-python",
   "name": "python",
   "nbconvert_exporter": "python",
   "pygments_lexer": "ipython3",
   "version": "3.6.8"
  }
 },
 "nbformat": 4,
 "nbformat_minor": 2
}
