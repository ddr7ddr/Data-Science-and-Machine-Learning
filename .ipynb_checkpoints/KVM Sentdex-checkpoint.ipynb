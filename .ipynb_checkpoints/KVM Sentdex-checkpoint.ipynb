{
 "cells": [
  {
   "cell_type": "code",
   "execution_count": 89,
   "metadata": {},
   "outputs": [],
   "source": [
    "# code goes into infinite while loop, have not check the predict,pt.28\n",
    "import matplotlib.pyplot as plt\n",
    "from matplotlib import style\n",
    "import numpy as np\n",
    "style.use('ggplot')"
   ]
  },
  {
   "cell_type": "code",
   "execution_count": 163,
   "metadata": {},
   "outputs": [],
   "source": [
    "class Support_Vector_Machine:  #??????????????????????\n",
    "    def __init__(self,visualization=True):\n",
    "        print(\"Initialising SVM...\")\n",
    "        self.visualization = visualization\n",
    "        self.colors = {1:'r', -1:'b'}\n",
    "        if visualization:\n",
    "            self.fig = plt.figure() #????????????????\n",
    "            self.ax = self.fig.add_subplot(1,1,1) #??????????\n",
    "    \n",
    "    # train\n",
    "    def fit(self, data):\n",
    "        print(\"Start to fit the training data...\")\n",
    "        self.data = data\n",
    "        # { ||w||: [w,b] }\n",
    "        opt_dict = {}\n",
    "        \n",
    "        transform = [ [1,1],\n",
    "                     [-1,1],\n",
    "                     [-1,-1],\n",
    "                     [1,-1] ]\n",
    "        \n",
    "        all_data = []\n",
    "        for yi in self.data: #yi= 1,-1\n",
    "            for featuresset in self.data[yi]: #self.data[-1] = [[1 7] [2 8] [3 8]]\n",
    "                for feature in featuresset: \n",
    "                    all_data.append(feature)\n",
    "        \n",
    "        self.max_feature_value = max(all_data) # 8\n",
    "        self.min_feature_value = min(all_data) # -1\n",
    "        all_data = None # clear the all_data\n",
    "        # sv yi(xi.w+b) = 1\n",
    "        # optimization big steps and then small steps, local minimun\n",
    "        step_sizes = [self.max_feature_value * 0.1,\n",
    "                      self.max_feature_value * 0.01,\n",
    "                      # point of expense:\n",
    "                      self.max_feature_value * 0.001,]\n",
    "        \n",
    "        # extremely expensive\n",
    "        b_range_multiple = 2\n",
    "        #we do not need to take as small of steps with b as we do w\n",
    "        b_mutiple = 5\n",
    "        \n",
    "        latest_optimum = self.max_feature_value * 0.5 #80\n",
    "        \n",
    "        \n",
    "        for step in step_sizes:\n",
    "            w = np.array([latest_optimum,latest_optimum]) #[80,80]\n",
    "            # we can do this because convex\n",
    "            optimized = False\n",
    "            while not optimized:\n",
    "                #print(\"while loop start...\")\n",
    "                for b in np.arange(-1*(self.max_feature_value*b_range_multiple),\n",
    "                                       self.max_feature_value*b_range_multiple, step*b_mutiple): #(-40,40,0.1*5)\n",
    "                    for transformation in transform:\n",
    "                        w_t = w*transformation #[80,80]*[-1,1]=0,[80,80]*[-1,-1]=0,160,-160\n",
    "                        found_option = True\n",
    "                        # weakest link in the SVM fundamentally, SMO attemps to fix this a bit\n",
    "                        # yi(xi.w+b) >= 1\n",
    "                        # add a break here later..\n",
    "                        for i in self.data: # 1, -1\n",
    "                            for xi in self.data[i]: # self.data[-1] = [[1 7] [2 8] [3 8]]\n",
    "                                yi = i #yi=i which 1 or -1\n",
    "                                if not yi*(np.dot(w_t,xi)+b) >= 1: # -1|1*(|0|0|160|-160|+|-40-40,step0.5|)\n",
    "                                    found_option = False\n",
    "                                    \n",
    "                                    #print((np.dot(w_t,xi)+b))\n",
    "\n",
    "                        if found_option:\n",
    "                            opt_dict[np.linalg.norm(w_t)] = [w_t,b]\n",
    "            \n",
    "                if w[0] < 0:\n",
    "                    optimized = True\n",
    "                    print(\"Optimized a step.\")\n",
    "                else:\n",
    "                    # w = [5,5]\n",
    "                    # w - step=1\n",
    "                    # w: [4,4]\n",
    "                    w = w - step\n",
    "            norms = sorted([n for n in opt_dict])\n",
    "            #||w||: [w,b]\n",
    "            opt_choice = opt_dict[norms[0]]\n",
    "\n",
    "            self.w = opt_choice[0]\n",
    "            self.b = opt_choice[1]\n",
    "            latest_optimum = opt_choice[0][0]+step*2\n",
    "            print(\"Finish training...\")\n",
    "            \n",
    "        \n",
    "        \n",
    "        \n",
    "    def predit(self,features):\n",
    "        #sign(x.w+b)\n",
    "        classification = np.sign( np.dot(np.array(features), self.w)+self.b )\n",
    "        if classification != 0 and self.visualization:\n",
    "            self.ax.scatter(features[0],features[1],s=200,marker='*',c=self.colors[classification])\n",
    "        return classification\n",
    "    \n",
    "    def visualize(self,data,axis=False):\n",
    "        print(\"xxxxxxxxxxxxxxxxxxxxxxxxxxxxxxxxx\")\n",
    "        #[self.ax.scatter(x[0],x[1],s=100,color=self.colors[i]) for x in data_dict[[i]] for i in data_dict]\n",
    "        #plt.scatter(data[:,0],data[:,1],marker='o',c=y)\n",
    "        \n",
    "        if axis!=False:\n",
    "            plt.axis(axis)\n",
    "            \n",
    "        xlist = []\n",
    "        tmplist = []\n",
    "        for cc in data:\n",
    "            for dd in data[cc]:\n",
    "                xlist.append(dd)\n",
    "        xlist = np.array(xlist)\n",
    "        plt.scatter(xlist[:,0],xlist[:,1],marker='o')\n",
    "        # hyperplane = x.w+b\n",
    "        # v = x.w+b\n",
    "        # psv = 1\n",
    "        # nsv = -1\n",
    "        # dec = 0\n",
    "        def hyperplane(x,w,b,v):\n",
    "            return (-w[0]*x-b+v) / w[1]\n",
    "\n",
    "        datarange = (self.min_feature_value*0.9,self.max_feature_value*1.1)\n",
    "        hyp_x_min = datarange[0]\n",
    "        hyp_x_max = datarange[1]\n",
    "        \n",
    "        #w.x+b=1\n",
    "        #positive support vector hyperplane\n",
    "        psv1 = hyperplane(hyp_x_min,self.w,self.b,1)\n",
    "        psv2 = hyperplane(hyp_x_max,self.w,self.b,1)\n",
    "        self.ax.plot([hyp_x_min,hyp_x_max],[psv1,psv2], 'k')\n",
    "        \n",
    "        #w.x+b=-1\n",
    "        #positive support vector hyperplane\n",
    "        nsv1 = hyperplane(hyp_x_min,self.w,self.b,-1)\n",
    "        nsv2 = hyperplane(hyp_x_max,self.w,self.b,-1)\n",
    "        self.ax.plot([hyp_x_min,hyp_x_max],[nsv1,nsv2], 'k')\n",
    "        \n",
    "        #w.x+b=0\n",
    "        #support vector hyperplane\n",
    "        db1 = hyperplane(hyp_x_min,self.w,self.b,0)\n",
    "        db2 = hyperplane(hyp_x_max,self.w,self.b,0)\n",
    "        self.ax.plot([hyp_x_min,hyp_x_max],[db1,db2], 'y--')\n",
    "        \n",
    "        print(\"show------------------\")\n",
    "        plt.show()\n",
    "    "
   ]
  },
  {
   "cell_type": "code",
   "execution_count": 164,
   "metadata": {},
   "outputs": [],
   "source": [
    "data_dict = {-1:np.array([[1,7],[2,8],[3,8]]),\n",
    "              1:np.array([[5,1],[6,-1],[7,3]])}"
   ]
  },
  {
   "cell_type": "code",
   "execution_count": 165,
   "metadata": {},
   "outputs": [],
   "source": [
    "#test first multiple interation\n",
    "\n",
    "# all_data = []\n",
    "\n",
    "# for yi in data_dict:\n",
    "#     print(\"yi: \",yi)\n",
    "#     print('data_dict[yi]:n',data_dict[yi])\n",
    "    \n",
    "#     for featureset in data_dict[yi]:\n",
    "#         print(\"featureset: \",featureset)\n",
    "#         for feature in featureset:\n",
    "#             print(\"feature: \",feature)\n",
    "#             all_data.append(feature)\n",
    "        \n",
    "# print(\"all_data: \", all_data)\n",
    "# max_feature_value = max(all_data)\n",
    "# print(\"max_feature_value: \", max_feature_value)\n",
    "# min_feature_value = min(all_data)\n",
    "# print(\"min_feature_value: \", min_feature_value)\n",
    "# all_data = None\n",
    "# print(\"new all_data: \", all_data)\n",
    "\n",
    "# -----------------output----------------------\n",
    "# yi:  -1\n",
    "# data_dict[yi]:n [[1 7]\n",
    "#  [2 8]\n",
    "#  [3 8]]\n",
    "# featureset:  [1 7]\n",
    "# feature:  1\n",
    "# feature:  7\n",
    "# featureset:  [2 8]\n",
    "# feature:  2\n",
    "# feature:  8\n",
    "# featureset:  [3 8]\n",
    "# feature:  3\n",
    "# feature:  8\n",
    "# yi:  1\n",
    "# data_dict[yi]:n [[ 5  1]\n",
    "#  [ 6 -1]\n",
    "#  [ 7  3]]\n",
    "# featureset:  [5 1]\n",
    "# feature:  5\n",
    "# feature:  1\n",
    "# featureset:  [ 6 -1]\n",
    "# feature:  6\n",
    "# feature:  -1\n",
    "# featureset:  [7 3]\n",
    "# feature:  7\n",
    "# feature:  3\n",
    "# all_data:  [1, 7, 2, 8, 3, 8, 5, 1, 6, -1, 7, 3]\n",
    "# max_feature_value:  8\n",
    "# min_feature_value:  -1\n",
    "# -----------------------------------------------"
   ]
  },
  {
   "cell_type": "code",
   "execution_count": 166,
   "metadata": {},
   "outputs": [
    {
     "name": "stdout",
     "output_type": "stream",
     "text": [
      "Initialising SVM...\n",
      "Start to fit the training data...\n",
      "Optimized a step.\n",
      "Finish training...\n",
      "Optimized a step.\n",
      "Finish training...\n",
      "Optimized a step.\n",
      "Finish training...\n",
      "xxxxxxxxxxxxxxxxxxxxxxxxxxxxxxxxx\n",
      "show------------------\n"
     ]
    },
    {
     "data": {
      "image/png": "[encoded data removed]",
      "text/plain": [
       "<Figure size 432x288 with 1 Axes>"
      ]
     },
     "metadata": {},
     "output_type": "display_data"
    }
   ],
   "source": [
    "svm = Support_Vector_Machine()\n",
    "svm.fit(data = data_dict)\n",
    "svm.visualize(data = data_dict,axis=False)"
   ]
  },
  {
   "cell_type": "code",
   "execution_count": 167,
   "metadata": {},
   "outputs": [
    {
     "data": {
      "image/png": "[encoded data removed]",
      "text/plain": [
       "<Figure size 432x288 with 1 Axes>"
      ]
     },
     "metadata": {},
     "output_type": "display_data"
    }
   ],
   "source": [
    "from sklearn.datasets.samples_generator import make_blobs\n",
    "\n",
    "(X,y) =  make_blobs(n_samples=50,n_features=2,centers=2,cluster_std=1.05,random_state=40)\n",
    "#we need to add 1 to X values (we can say its bias)\n",
    "X1 = np.c_[np.ones((X.shape[0])),X]\n",
    "\n",
    "plt.scatter(X1[:,1],X1[:,2],marker='o',c=y)\n",
    "plt.axis([-5,10,-12,-1])\n",
    "plt.show()\n"
   ]
  },
  {
   "cell_type": "code",
   "execution_count": 168,
   "metadata": {},
   "outputs": [],
   "source": [
    "postiveX=[]\n",
    "negativeX=[]\n",
    "for i,v in enumerate(y):\n",
    "    if v==0:\n",
    "        negativeX.append(X[i])\n",
    "    else:\n",
    "        postiveX.append(X[i])\n",
    "\n",
    "#our data dictionary\n",
    "data_dict = {-1:np.array(negativeX), 1:np.array(postiveX)}"
   ]
  },
  {
   "cell_type": "code",
   "execution_count": 169,
   "metadata": {},
   "outputs": [
    {
     "name": "stdout",
     "output_type": "stream",
     "text": [
      "Initialising SVM...\n",
      "Start to fit the training data...\n",
      "Optimized a step.\n",
      "Finish training...\n",
      "Optimized a step.\n",
      "Finish training...\n",
      "Optimized a step.\n",
      "Finish training...\n",
      "xxxxxxxxxxxxxxxxxxxxxxxxxxxxxxxxx\n",
      "show------------------\n"
     ]
    },
    {
     "data": {
      "image/png": "[encoded data removed]",
      "text/plain": [
       "<Figure size 432x288 with 1 Axes>"
      ]
     },
     "metadata": {},
     "output_type": "display_data"
    }
   ],
   "source": [
    "svm = Support_Vector_Machine()\n",
    "svm.fit(data = data_dict)\n",
    "svm.visualize(data = data_dict, axis = [-5,10,-12,-1])"
   ]
  },
  {
   "cell_type": "code",
   "execution_count": null,
   "metadata": {},
   "outputs": [],
   "source": []
  },
  {
   "cell_type": "code",
   "execution_count": null,
   "metadata": {},
   "outputs": [],
   "source": []
  }
 ],
 "metadata": {
  "kernelspec": {
   "display_name": "Python 3",
   "language": "python",
   "name": "python3"
  },
  "language_info": {
   "codemirror_mode": {
    "name": "ipython",
    "version": 3
   },
   "file_extension": ".py",
   "mimetype": "text/x-python",
   "name": "python",
   "nbconvert_exporter": "python",
   "pygments_lexer": "ipython3",
   "version": "3.6.8"
  }
 },
 "nbformat": 4,
 "nbformat_minor": 2
}
