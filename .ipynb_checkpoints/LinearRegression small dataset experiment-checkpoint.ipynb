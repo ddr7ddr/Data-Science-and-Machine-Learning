{
 "cells": [
  {
   "cell_type": "markdown",
   "metadata": {},
   "source": [
    "Playgourd for the \"Regression forecasting and predicting.ipynb\""
   ]
  },
  {
   "cell_type": "code",
   "execution_count": 21,
   "metadata": {},
   "outputs": [],
   "source": [
    "import numpy as np"
   ]
  },
  {
   "cell_type": "code",
   "execution_count": 22,
   "metadata": {},
   "outputs": [
    {
     "name": "stdout",
     "output_type": "stream",
     "text": [
      "     x1   x2   label label2\n",
      "0   206  214     253    253\n",
      "1   226  234     272    272\n",
      "2   245  253     291    291\n",
      "3   265  272  -99999    NaN\n",
      "4   283  291  -99999    NaN\n"
     ]
    }
   ],
   "source": [
    "import pandas as pd2\n",
    "\n",
    "df2 = pd2.DataFrame({'x1': ['206', '226', '245',' 265', '283'],\n",
    "                    'x2': ['214', '234', '253', '272', '291']})\n",
    "\n",
    "df2['label'] = df2['x2'].shift(-2) #create a label columns and shift 2 rows from bottom\n",
    "df2.fillna(-99999, inplace=True)\n",
    "df2['label2'] = df2['x2'].shift(-2) #create for experiment\n",
    "print(df2)\n",
    "\n",
    "\n",
    "#print(df2)"
   ]
  },
  {
   "cell_type": "code",
   "execution_count": 23,
   "metadata": {},
   "outputs": [
    {
     "name": "stdout",
     "output_type": "stream",
     "text": [
      "[['206' '214' '253']\n",
      " ['226' '234' '272']\n",
      " ['245' '253' '291']\n",
      " [' 265' '272' -99999]\n",
      " ['283' '291' -99999]]\n"
     ]
    }
   ],
   "source": [
    "X = np.array(df2.drop(['label2'],1))\n",
    "print (X)\n",
    "#X = X[:-forecast_out]\n",
    "#X_lately = X[-forecast_out:]\n",
    "#X = preprocessing.scale(X)\n",
    "\n",
    "#df.dropna(inplace=True)\n",
    "#y = np.array(df['label'])\n",
    "#y = np.array(df['label'])\n",
    "\n",
    "#print(len(X),len(y))"
   ]
  },
  {
   "cell_type": "code",
   "execution_count": 24,
   "metadata": {},
   "outputs": [
    {
     "name": "stdout",
     "output_type": "stream",
     "text": [
      "[[-1.42865769 -1.42886743  0.81610977]\n",
      " [-0.69601272 -0.69233783  0.81649656]\n",
      " [ 0.          0.0073653   0.81688334]]\n"
     ]
    },
    {
     "name": "stderr",
     "output_type": "stream",
     "text": [
      "/home/jia/anaconda3/envs/ml/lib/python3.6/site-packages/sklearn/utils/validation.py:595: DataConversionWarning: Data with input dtype object was converted to float64 by the scale function.\n",
      "  warnings.warn(msg, DataConversionWarning)\n"
     ]
    }
   ],
   "source": [
    "X = preprocessing.scale(X)\n",
    "X = X[:-2]\n",
    "print (X)"
   ]
  },
  {
   "cell_type": "code",
   "execution_count": 25,
   "metadata": {},
   "outputs": [
    {
     "name": "stdout",
     "output_type": "stream",
     "text": [
      "[[-0.69601272 -0.69233783  0.81649656]\n",
      " [ 0.          0.0073653   0.81688334]]\n"
     ]
    }
   ],
   "source": [
    "X_lately = X[-2:]\n",
    "print (X_lately)"
   ]
  },
  {
   "cell_type": "code",
   "execution_count": 26,
   "metadata": {},
   "outputs": [],
   "source": [
    "from sklearn import preprocessing, svm\n"
   ]
  },
  {
   "cell_type": "code",
   "execution_count": 27,
   "metadata": {},
   "outputs": [
    {
     "name": "stdout",
     "output_type": "stream",
     "text": [
      "[[-1.42865769 -1.42886743  0.81610977]\n",
      " [-0.69601272 -0.69233783  0.81649656]\n",
      " [ 0.          0.0073653   0.81688334]]\n"
     ]
    }
   ],
   "source": [
    "print (X)"
   ]
  },
  {
   "cell_type": "code",
   "execution_count": 28,
   "metadata": {},
   "outputs": [
    {
     "name": "stdout",
     "output_type": "stream",
     "text": [
      "['253' '272' '291']\n"
     ]
    }
   ],
   "source": [
    "df2.dropna(inplace=True)\n",
    "y = np.array(df2['label2'])\n",
    "print (y)"
   ]
  },
  {
   "cell_type": "code",
   "execution_count": 29,
   "metadata": {},
   "outputs": [],
   "source": [
    "from sklearn.model_selection import train_test_split\n",
    "from sklearn.linear_model import LinearRegression"
   ]
  },
  {
   "cell_type": "code",
   "execution_count": 30,
   "metadata": {},
   "outputs": [
    {
     "name": "stdout",
     "output_type": "stream",
     "text": [
      "[[ 0.          0.0073653   0.81688334]\n",
      " [-0.69601272 -0.69233783  0.81649656]]\n",
      "[[-1.42865769 -1.42886743  0.81610977]]\n",
      "['291' '272']\n",
      "['253']\n"
     ]
    }
   ],
   "source": [
    "X_train, X_test, y_train, y_test = train_test_split(X, y, test_size=0.2)\n",
    "#clf = LinearRegression(n_jobs=-1)\n",
    "#clf = svm.SVR(kernel='poly')\n",
    "#clf.fit(X_train, y_train)\n",
    "#ccuracy = clf.score(X_test, y_test)\n",
    "\n",
    "#print(accuracy)\n",
    "print (X_train)\n",
    "print (X_test)\n",
    "print (y_train)\n",
    "print (y_test)"
   ]
  },
  {
   "cell_type": "code",
   "execution_count": 31,
   "metadata": {},
   "outputs": [
    {
     "name": "stdout",
     "output_type": "stream",
     "text": [
      "0.0\n"
     ]
    }
   ],
   "source": [
    "clf = LinearRegression(n_jobs=-1)\n",
    "#clf = svm.SVR(kernel='poly')\n",
    "clf.fit(X_train, y_train)\n",
    "accuracy = clf.score(X_test, y_test)\n",
    "\n",
    "print(accuracy)"
   ]
  },
  {
   "cell_type": "code",
   "execution_count": null,
   "metadata": {},
   "outputs": [],
   "source": []
  }
 ],
 "metadata": {
  "kernelspec": {
   "display_name": "Python 3",
   "language": "python",
   "name": "python3"
  },
  "language_info": {
   "codemirror_mode": {
    "name": "ipython",
    "version": 3
   },
   "file_extension": ".py",
   "mimetype": "text/x-python",
   "name": "python",
   "nbconvert_exporter": "python",
   "pygments_lexer": "ipython3",
   "version": "3.6.8"
  }
 },
 "nbformat": 4,
 "nbformat_minor": 2
}
